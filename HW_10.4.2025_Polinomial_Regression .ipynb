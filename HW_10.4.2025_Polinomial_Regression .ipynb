{
 "cells": [
  {
   "cell_type": "markdown",
   "id": "68688857-886a-4568-a97d-78c30815b50f",
   "metadata": {},
   "source": [
    "<div style=\"background-color: #e0f7e0; padding: 15px; border-radius: 5px;\">\n",
    "    <h1 style=\"color: Darkgreen;\">Home Work 10.4.2025 \n",
    "        <br>\n",
    "        <br>\n",
    "        Polinomial_Regression </h1>\n",
    "</div>\n"
   ]
  },
  {
   "cell_type": "markdown",
   "id": "3a2522ff-742e-4080-ba5e-cf78236c36ef",
   "metadata": {},
   "source": [
    "<div style=\"border: 2px solid Darkred; padding: 15px; background-color: #f9f9f9;\">\n",
    "    <h4 style=\"color: Darkred;\">\n",
    "        <strong>\n",
    "            Feature 1\n",
    " <br>\n",
    "             <br>\n",
    "        </strong>\n",
    "    </h4>\n",
    "    <h5 style=\"color: Tomato; margin-top: -10px;\">\n",
    "        An agricultural researcher is examining the relationship between the amount of fertilizer (in kilograms) and the yield of potatoes (in tons per dunam). <br>\n",
    "        He discovers that the relationship is non-linear — too much fertilizer can actually harm the yield. Here is the data:\n",
    "\n"
   ]
  },
  {
   "cell_type": "code",
   "execution_count": 1,
   "id": "e6e8beae-9339-4661-a9a5-9cb4f9d6719e",
   "metadata": {},
   "outputs": [
    {
     "name": "stdout",
     "output_type": "stream",
     "text": [
      "Fertilizer kg(xᵢ) | Potatoes t(yᵢ) |    xᵢ²    |    xᵢ·yᵢ   |    ᵢ²·yᵢ \n",
      "      x= 50       |     y= 7.5     | x²=  2500 | x·y= 375.0 | x²·y= 18750.0\n",
      "      x=100       |     y=10.2     | x²= 10000 | x·y=1020.0 | x²·y=102000.0\n",
      "      x=150       |     y=12.8     | x²= 22500 | x·y=1920.0 | x²·y=288000.0\n",
      "      x=200       |     y=14.5     | x²= 40000 | x·y=2900.0 | x²·y=580000.0\n",
      "      x=250       |     y=15.6     | x²= 62500 | x·y=3900.0 | x²·y=975000.0\n",
      "      x=300       |     y=16.0     | x²= 90000 | x·y=4800.0 | x²·y=1440000.0\n",
      "      x=350       |     y=15.8     | x²=122500 | x·y=5530.0 | x²·y=1935500.0\n",
      "      x=400       |     y=15.0     | x²=160000 | x·y=6000.0 | x²·y=2400000.0\n",
      "      x=450       |     y=13.5     | x²=202500 | x·y=6075.0 | x²·y=2733750.0\n",
      "      x=500       |     y=11.2     | x²=250000 | x·y=5600.0 | x²·y=2800000.0\n"
     ]
    }
   ],
   "source": [
    "import numpy as np\n",
    "import matplotlib.pyplot as plt\n",
    "from sklearn.preprocessing import PolynomialFeatures\n",
    "from sklearn.linear_model import LinearRegression\n",
    "\n",
    "x = [50, 100, 150, 200, 250, 300, 350, 400, 450, 500]\n",
    "y = [7.5, 10.2, 12.8, 14.5, 15.6, 16.0, 15.8, 15.0, 13.5, 11.2]\n",
    "\n",
    "x_squared = []\n",
    "x_times_y = []\n",
    "x_squared_times_y = []\n",
    "\n",
    "for xi, yi in zip(x, y):\n",
    "    xsq = xi**2\n",
    "    xy = xi * yi\n",
    "    x2y = xsq * yi\n",
    "\n",
    "    x_squared.append(xsq)\n",
    "    x_times_y.append(xy)\n",
    "    x_squared_times_y.append(x2y)\n",
    "\n",
    "print(f\"Fertilizer kg(xᵢ) | Potatoes t(yᵢ) |{\" \"*3} xᵢ² {\" \"*2} |{\" \"*3} xᵢ·yᵢ{\" \"*2} | {\" \"*3}ᵢ²·yᵢ \")\n",
    "\n",
    "for i in range(len(x)):\n",
    "\n",
    "    print(f\"{\" \"*6}x={x[i]:>3}{\" \"*6} |{\" \"*5}y={y[i]:>4}{\" \"*4} | x²={x_squared[i]:>6} | x·y={x_times_y[i]:>6.1f} | x²·y={x_squared_times_y[i]:>8.1f}\")"
   ]
  },
  {
   "cell_type": "markdown",
   "id": "0d7c098d-14d0-4990-a2c6-8caa43d52f23",
   "metadata": {},
   "source": [
    "<div style=\"border: 2px solid Darkred; padding: 15px; background-color: #f9f9f9;\">\n",
    "    <h4 style=\"color: Darkred;\">\n",
    "        <strong>\n",
    "1. Calculate the missing values in the table (using Python code):   \n"
   ]
  },
  {
   "cell_type": "code",
   "execution_count": 5,
   "id": "87a7e0b6-6ba4-4849-b411-cbe0f7f96734",
   "metadata": {},
   "outputs": [
    {
     "data": {
      "text/plain": [
       "['x= 50 | y= 7.5 | x²=  2500 | x·y= 375.0 | x²·y= 18750.0',\n",
       " 'x=100 | y=10.2 | x²= 10000 | x·y=1020.0 | x²·y=102000.0',\n",
       " 'x=150 | y=12.8 | x²= 22500 | x·y=1920.0 | x²·y=288000.0',\n",
       " 'x=200 | y=14.5 | x²= 40000 | x·y=2900.0 | x²·y=580000.0',\n",
       " 'x=250 | y=15.6 | x²= 62500 | x·y=3900.0 | x²·y=975000.0',\n",
       " 'x=300 | y=16.0 | x²= 90000 | x·y=4800.0 | x²·y=1440000.0',\n",
       " 'x=350 | y=15.8 | x²=122500 | x·y=5530.0 | x²·y=1935500.0',\n",
       " 'x=400 | y=15.0 | x²=160000 | x·y=6000.0 | x²·y=2400000.0',\n",
       " 'x=450 | y=13.5 | x²=202500 | x·y=6075.0 | x²·y=2733750.0',\n",
       " 'x=500 | y=11.2 | x²=250000 | x·y=5600.0 | x²·y=2800000.0']"
      ]
     },
     "execution_count": 5,
     "metadata": {},
     "output_type": "execute_result"
    }
   ],
   "source": [
    "# Given data\n",
    "x = [50, 100, 150, 200, 250, 300, 350, 400, 450, 500]\n",
    "y = [7.5, 10.2, 12.8, 14.5, 15.6, 16.0, 15.8, 15.0, 13.5, 11.2]\n",
    "\n",
    "# Lists to store computed values\n",
    "x_squared = []\n",
    "x_times_y = []\n",
    "x_squared_times_y = []\n",
    "\n",
    "# Calculate x², x·y, and x²·y\n",
    "for xi, yi in zip(x, y):\n",
    "    xsq = xi**2\n",
    "    xy = xi * yi\n",
    "    x2y = xsq * yi\n",
    "\n",
    "    x_squared.append(xsq)\n",
    "    x_times_y.append(xy)\n",
    "    x_squared_times_y.append(x2y)\n",
    "\n",
    "# Prepare the output as a list of formatted strings\n",
    "table_data = []\n",
    "\n",
    "for i in range(len(x)):\n",
    "    table_data.append(f\"x={x[i]:>3} | y={y[i]:>4} | x²={x_squared[i]:>6} | x·y={x_times_y[i]:>6.1f} | x²·y={x_squared_times_y[i]:>8.1f}\")\n",
    "\n",
    "# Return the table data\n",
    "table_data\n"
   ]
  },
  {
   "cell_type": "markdown",
   "id": "fe023723-32a4-4ba1-851d-2d6c45bdbb8d",
   "metadata": {},
   "source": [
    "<div style=\"border: 2px solid Darkred; padding: 15px; background-color: #f9f9f9;\">\n",
    "    <h4 style=\"color: Darkred;\">\n",
    "        <strong>\n",
    "2. Build a second-degree polynomial regression model that describes the relationship between the amount of fertilizer and the yield:   \n"
   ]
  },
  {
   "cell_type": "code",
   "execution_count": 6,
   "id": "2d77a2ed-cebf-48b9-a824-33c7f0725557",
   "metadata": {
    "scrolled": true
   },
   "outputs": [
    {
     "name": "stdout",
     "output_type": "stream",
     "text": [
      "Model: y = -0.00013x² + 0.07994x + 3.69500\n"
     ]
    },
    {
     "data": {
      "image/png": "[encoded data removed]",
      "text/plain": [
       "<Figure size 640x480 with 1 Axes>"
      ]
     },
     "metadata": {},
     "output_type": "display_data"
    }
   ],
   "source": [
    "import numpy as np\n",
    "import matplotlib.pyplot as plt\n",
    "from sklearn.preprocessing import PolynomialFeatures\n",
    "from sklearn.linear_model import LinearRegression\n",
    "\n",
    "# Step 1: Data\n",
    "x = np.array([50, 100, 150, 200, 250, 300, 350, 400, 450, 500]).reshape(-1, 1)\n",
    "y = np.array([7.5, 10.2, 12.8, 14.5, 15.6, 16.0, 15.8, 15.0, 13.5, 11.2])\n",
    "\n",
    "# Step 2: Create polynomial features of degree 2 (i.e., add x²)\n",
    "poly = PolynomialFeatures(degree=2)\n",
    "x_poly = poly.fit_transform(x)\n",
    "\n",
    "# Step 3: Train a linear regression model on the polynomial features\n",
    "model = LinearRegression()\n",
    "model.fit(x_poly, y)\n",
    "\n",
    "# Step 4: Predict the values using the trained model\n",
    "y_pred = model.predict(x_poly)\n",
    "\n",
    "# Step 5: Show the polynomial equation\n",
    "a = model.coef_[2]\n",
    "b = model.coef_[1]\n",
    "c = model.intercept_\n",
    "print(f\"Model: y = {a:.5f}x² + {b:.5f}x + {c:.5f}\")\n",
    "\n",
    "# Step 6: Plot the results\n",
    "plt.scatter(x, y, color='blue', label='Actual Data')\n",
    "plt.plot(x, y_pred, color='red', label='Polynomial Regression (Degree 2)')\n",
    "plt.xlabel('Fertilizer (kg)')\n",
    "plt.ylabel('Yield (tons/dunam)')\n",
    "plt.title('Second-Degree Polynomial Regression')\n",
    "plt.legend()\n",
    "plt.grid(True)\n",
    "plt.show()\n"
   ]
  },
  {
   "cell_type": "markdown",
   "id": "e22b42bd-022f-4089-992d-503f7fc9a0fe",
   "metadata": {},
   "source": [
    "<div style=\"border: 2px solid Darkred; padding: 15px; background-color: #f9f9f9;\">\n",
    "    <h4 style=\"color: Darkred;\">\n",
    "        <strong>\n",
    "3. What is the optimal amount of fertilizer that will result in the maximum yield?"
   ]
  },
  {
   "cell_type": "markdown",
   "id": "973e923c-7189-4e67-a7fe-d6139b2a1720",
   "metadata": {},
   "source": [
    "\n",
    "\n",
    "<div style=\"border: 2px solid Darkred; padding: 15px; background-color: #f9f9f9;\">\n",
    "    <h4 style=\"color: green;\">\n",
    "        <strong>\n",
    "            The optimal fertilizer amount:\n",
    " <br>\n",
    "             <br>\n",
    "        </strong>\n",
    "    </h4>\n",
    "    <h5 style=\"color: Tomato; margin-top: -10px;\">\n",
    "        y=ax**2+bx+c\n",
    "        <br>\n",
    "        <br>\n",
    "    <h4 style=\"color: green;\">\n",
    "        <strong>\n",
    "        Formula for the vertex:\n",
    " <br>\n",
    "                </h4>\n",
    "    <h5 style=\"color: Tomato; margin-top: -10px;\">\n",
    "xmax= −b/2a\n",
    "\n",
    "\n"
   ]
  },
  {
   "cell_type": "code",
   "execution_count": 7,
   "id": "d49c3f64-05a8-4dc2-925a-67cff4140bdb",
   "metadata": {},
   "outputs": [
    {
     "name": "stdout",
     "output_type": "stream",
     "text": [
      "Optimal fertilizer amount: 308.54 kg\n"
     ]
    }
   ],
   "source": [
    "# Use the coefficients from the model (after fitting the polynomial regression)\n",
    "a = model.coef_[2]\n",
    "b = model.coef_[1]\n",
    "\n",
    "# Optimal fertilizer amount for maximum yield\n",
    "x_optimal = -b / (2 * a)\n",
    "print(f\"Optimal fertilizer amount: {x_optimal:.2f} kg\")\n"
   ]
  },
  {
   "cell_type": "markdown",
   "id": "7dbeee38-337b-4ce4-93ac-257ce7719cd2",
   "metadata": {},
   "source": [
    "<div style=\"border: 2px solid Darkred; padding: 15px; background-color: #f9f9f9;\">\n",
    "    <h4 style=\"color: Darkred;\">\n",
    "        <strong>\n",
    "4. What is the expected maximum yield according to the model?"
   ]
  },
  {
   "cell_type": "markdown",
   "id": "86e83f4a-1327-4d43-a419-63d959cea0ad",
   "metadata": {},
   "source": [
    "<div style=\"border: 2px solid Darkred; padding: 15px; background-color: #f9f9f9;\">\n",
    "    <h4 style=\"color: green;\">\n",
    "        <strong>\n",
    "            The maximum yield:\n",
    " <br>\n",
    "             <br>\n",
    "        </strong>\n",
    "    </h4>\n",
    "    <h5 style=\"color: Tomato; margin-top: -10px;\">\n",
    "xoptimal= −b/2a\n",
    "        <br>\n",
    "        <br>\n",
    "    <h4 style=\"color: green;\">\n",
    "        <strong>\n",
    "      To find the maximum yield, we plug that value into the polynomial model:\n",
    " <br>\n",
    "                </h4>\n",
    "    <h5 style=\"color: Tomato; margin-top: -10px;\">\n",
    "ymax= a.X**2optimal + b.Xoptimal + c"
   ]
  },
  {
   "cell_type": "code",
   "execution_count": 8,
   "id": "831233c9-d674-4bfa-ae88-655803035434",
   "metadata": {},
   "outputs": [
    {
     "name": "stdout",
     "output_type": "stream",
     "text": [
      "Maximum yield: 16.03 tons per dunam\n"
     ]
    }
   ],
   "source": [
    "# Coefficients from the model\n",
    "a = model.coef_[2]\n",
    "b = model.coef_[1]\n",
    "c = model.intercept_\n",
    "\n",
    "# Optimal x (fertilizer amount)\n",
    "x_optimal = -b / (2 * a)\n",
    "\n",
    "# Maximum yield\n",
    "y_max = a * x_optimal**2 + b * x_optimal + c\n",
    "print(f\"Maximum yield: {y_max:.2f} tons per dunam\")\n"
   ]
  }
 ],
 "metadata": {
  "kernelspec": {
   "display_name": "Python 3 (ipykernel)",
   "language": "python",
   "name": "python3"
  },
  "language_info": {
   "codemirror_mode": {
    "name": "ipython",
    "version": 3
   },
   "file_extension": ".py",
   "mimetype": "text/x-python",
   "name": "python",
   "nbconvert_exporter": "python",
   "pygments_lexer": "ipython3",
   "version": "3.12.7"
  }
 },
 "nbformat": 4,
 "nbformat_minor": 5
}
